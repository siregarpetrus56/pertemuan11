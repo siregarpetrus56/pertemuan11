{
 "cells": [
  {
   "cell_type": "code",
   "execution_count": 2,
   "metadata": {},
   "outputs": [
    {
     "name": "stdout",
     "output_type": "stream",
     "text": [
      "16\n",
      "6\n"
     ]
    }
   ],
   "source": [
    "def mod(number, cellNumber):\n",
    "    return number % cellNumber\n",
    "\n",
    "\n",
    "print(mod(400, 24))\n",
    "\n",
    "\n",
    "def modASCII(string, cellNumber):\n",
    "    total = 0\n",
    "    for i in string:\n",
    "        total += ord(i)\n",
    "    return total % cellNumber\n",
    "\n",
    "print(modASCII(\"ABC\", 24))"
   ]
  }
 ],
 "metadata": {
  "kernelspec": {
   "display_name": "Python 3",
   "language": "python",
   "name": "python3"
  },
  "language_info": {
   "codemirror_mode": {
    "name": "ipython",
    "version": 3
   },
   "file_extension": ".py",
   "mimetype": "text/x-python",
   "name": "python",
   "nbconvert_exporter": "python",
   "pygments_lexer": "ipython3",
   "version": "3.10.10"
  },
  "orig_nbformat": 4
 },
 "nbformat": 4,
 "nbformat_minor": 2
}
